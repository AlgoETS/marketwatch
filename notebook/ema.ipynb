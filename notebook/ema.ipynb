{
  "cells": [
    {
      "cell_type": "code",
      "execution_count": null,
      "metadata": {},
      "outputs": [],
      "source": [
        "# Import required modules\n",
        "import time\n",
        "import pandas as pd\n",
        "from marketwatch import MarketWatch\n",
        "\n",
        "# Initialize MarketWatch API\n",
        "username = 'your_username_here'  # Replace with your username\n",
        "password = 'your_password_here'  # Replace with your password\n",
        "game_name = 'your_game_name_here'  # Replace with your game name\n",
        "\n",
        "# Initialize MarketWatch\n",
        "marketwatch = MarketWatch(username, password)\n",
        "\n",
        "# Function to calculate EMA\n",
        "def calculate_ema(price_series, periods):\n",
        "    return price_series.ewm(span=periods, adjust=False).mean()\n",
        "\n",
        "# Function to trade based on EMA crossover and check if the trade worked\n",
        "def trade_on_crossover(df, game_name):\n",
        "    short_term = df['EMA_20'].iloc[-1]\n",
        "    long_term = df['EMA_80'].iloc[-1]\n",
        "    prev_short_term = df['EMA_20'].iloc[-2]\n",
        "    prev_long_term = df['EMA_80'].iloc[-2]\n",
        "    \n",
        "    if short_term > long_term and prev_short_term <= prev_long_term:\n",
        "        print('Golden Cross detected. Attempting to buy stock.')\n",
        "        marketwatch.buy(game_name, 'AAPL', 100)\n",
        "        \n",
        "        # Check if the buy order was successful\n",
        "        positions = marketwatch.get_positions(game_name)\n",
        "        if any(pos['ticker'] == 'AAPL' for pos in positions):\n",
        "            print('Buy order successful.')\n",
        "        else:\n",
        "            print('Buy order failed.')\n",
        "        \n",
        "    elif short_term < long_term and prev_short_term >= prev_long_term:\n",
        "        print('Death Cross detected. Attempting to sell stock.')\n",
        "        marketwatch.sell(game_name, 'AAPL', 100)\n",
        "        \n",
        "        # Check if the sell order was successful\n",
        "        positions = marketwatch.get_positions(game_name)\n",
        "        if not any(pos['ticker'] == 'AAPL' for pos in positions):\n",
        "            print('Sell order successful.')\n",
        "        else:\n",
        "            print('Sell order failed.')"
      ]
    },
    {
      "cell_type": "code",
      "execution_count": null,
      "metadata": {},
      "outputs": [],
      "source": [
        "# Collect historical data by calling get_price() at intervals\n",
        "price_data = []\n",
        "for _ in range(160):  # Collect more data points for initial EMA calculation\n",
        "    price = marketwatch.get_price('AAPL')\n",
        "    price_data.append(price)\n",
        "    if len(price_data) > 150:  # Keep the data window at 150 points\n",
        "        price_data.pop(0)\n",
        "    \n",
        "    # Convert the price data to a Pandas DataFrame\n",
        "    df = pd.DataFrame(price_data, columns=['Close'])\n",
        "    \n",
        "    # Calculate EMA for 20 and 80 periods\n",
        "    for period in [20, 80]:\n",
        "        ema_column_name = f'EMA_{period}'\n",
        "        df[ema_column_name] = calculate_ema(df['Close'], period)\n",
        "    \n",
        "    # Trade based on EMA crossover if we have enough data for EMA 80\n",
        "    if len(df) >= 80:\n",
        "        trade_on_crossover(df, game_name)\n",
        "    \n",
        "    time.sleep(60)  # Wait for 60 seconds before the next call"
      ]
    }
  ],
  "metadata": {
    "kernelspec": {
      "display_name": "Python 3",
      "language": "python",
      "name": "python3"
    },
    "language_info": {
      "codemirror_mode": {
        "name": "ipython",
        "version": 3
      },
      "file_extension": ".py",
      "mimetype": "text/x-python",
      "name": "python",
      "nbconvert_exporter": "python",
      "pygments_lexer": "ipython3",
      "version": "3.10.10"
    }
  },
  "nbformat": 4,
  "nbformat_minor": 2
}
