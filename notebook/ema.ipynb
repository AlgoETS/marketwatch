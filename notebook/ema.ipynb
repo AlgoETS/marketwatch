{
  "cells": [
    {
      "cell_type": "code",
      "execution_count": null,
      "metadata": {},
      "outputs": [],
      "source": [
        "%pip install httpx pandas pandas_ta matplotlib seaborn plotly requests beautifulsoup4 lxml mplfinance finnhub-python binance python-binance scikit-learn numpy rich marketwatch"
      ]
    },
    {
      "cell_type": "code",
      "execution_count": null,
      "metadata": {},
      "outputs": [],
      "source": [
        "import time\n",
        "import pandas as pd\n",
        "from datetime import datetime\n",
        "from marketwatch import MarketWatch\n",
        "import logging\n",
        "import os\n",
        "import re"
      ]
    },
    {
      "cell_type": "code",
      "execution_count": null,
      "metadata": {},
      "outputs": [],
      "source": [
        "def calculate_ema(price_series, periods):\n",
        "    return price_series.ewm(span=periods, adjust=False).mean()"
      ]
    },
    {
      "cell_type": "code",
      "execution_count": null,
      "metadata": {},
      "outputs": [],
      "source": [
        "def trade_on_crossover(df, game_name, stock_symbol, marketwatch):\n",
        "    short_term = df['EMA_20'].iloc[-1]\n",
        "    long_term = df['EMA_80'].iloc[-1]\n",
        "    prev_short_term = df['EMA_20'].iloc[-2]\n",
        "    prev_long_term = df['EMA_80'].iloc[-2]\n",
        "\n",
        "    # Condition to buy or initiate a long position\n",
        "    if short_term > long_term and prev_short_term <= prev_long_term:\n",
        "        try:\n",
        "            marketwatch.buy(game_name, stock_symbol, 100)\n",
        "            logging.info(f\"Bought 100 shares of {stock_symbol}\")\n",
        "        except Exception as e:\n",
        "            logging.error(f\"Error buying {stock_symbol}: {e}\")\n",
        "\n",
        "    # Condition to sell or close a long position\n",
        "    elif short_term < long_term and prev_short_term >= prev_long_term:\n",
        "        try:\n",
        "            marketwatch.sell(game_name, stock_symbol, 100)\n",
        "            logging.info(f\"Sold 100 shares of {stock_symbol}\")\n",
        "        except Exception as e:\n",
        "            logging.error(f\"Error selling {stock_symbol}: {e}\")\n",
        "\n",
        "    # Additional conditions for short selling\n",
        "\n",
        "    # Condition to initiate a short sell\n",
        "    elif short_term < long_term and prev_short_term >= prev_long_term:\n",
        "        try:\n",
        "            marketwatch.short_sell(game_name, stock_symbol, 100)\n",
        "            logging.info(f\"Initiated a short sell of 100 shares of {stock_symbol}\")\n",
        "        except Exception as e:\n",
        "            logging.error(f\"Error initiating short sell of {stock_symbol}: {e}\")\n",
        "\n",
        "    # Condition to close a short position\n",
        "    elif short_term > long_term and prev_short_term <= prev_long_term:\n",
        "        try:\n",
        "            marketwatch.cover_short(game_name, stock_symbol, 100)\n",
        "            logging.info(f\"Closed short position of 100 shares of {stock_symbol}\")\n",
        "        except Exception as e:\n",
        "            logging.error(f\"Error closing short position of {stock_symbol}: {e}\")"
      ]
    },
    {
      "cell_type": "code",
      "execution_count": null,
      "metadata": {},
      "outputs": [],
      "source": [
        "def trade_multiple_stocks(stock_symbols, marketwatch, game_name):\n",
        "    price_data = {symbol: [] for symbol in stock_symbols}\n",
        "\n",
        "    for _ in range(160):\n",
        "        for symbol in stock_symbols:\n",
        "            try:\n",
        "                price_pattern = re.compile(r'\\b' + re.escape(symbol) + r' : \\$([\\d\\.]+)\\b')\n",
        "                price_string = marketwatch.get_price(symbol)\n",
        "                price_match = price_pattern.search(price_string)\n",
        "                if price_match:\n",
        "                    price = float(price_match.group(1))\n",
        "                    price_data[symbol].append(price)\n",
        "                else:\n",
        "                    print(f\"Received price string: {price_string}\")\n",
        "                    raise ValueError(f\"Unexpected price format for {symbol}: {price_string}\")\n",
        "            except Exception as e:\n",
        "                print(f\"Unable to parse price for symbol: {symbol}, received: {price_string}, error: {e}\")\n",
        "                continue\n",
        "\n",
        "            if len(price_data[symbol]) > 150:\n",
        "                price_data[symbol].pop(0)\n",
        "\n",
        "        for symbol in stock_symbols:\n",
        "            df = pd.DataFrame(price_data[symbol], columns=['Close'])\n",
        "            for period in [20, 80]:\n",
        "                ema_column_name = f'EMA_{period}'\n",
        "                df[ema_column_name] = float('nan')\n",
        "            for period in [20, 80]:\n",
        "                ema_column_name = f'EMA_{period}'\n",
        "                df[ema_column_name] = calculate_ema(df['Close'], period)\n",
        "\n",
        "            if len(df) >= 80:\n",
        "                trade_on_crossover(df, game_name, symbol, marketwatch)\n",
        "        time.sleep(1)  # Adjust this based on MarketWatch data update frequency\n",
        "        print(df)"
      ]
    },
    {
      "cell_type": "code",
      "execution_count": null,
      "metadata": {},
      "outputs": [],
      "source": [
        "def next_trading_day():\n",
        "    today = datetime.today()\n",
        "    if today.weekday() >= 5:  # Saturday or Sunday\n",
        "        return today + timedelta(days=(7 - today.weekday()))\n",
        "    return today"
      ]
    },
    {
      "cell_type": "code",
      "execution_count": null,
      "metadata": {},
      "outputs": [],
      "source": [
        "def main():\n",
        "    username = os.getenv('MARKETWATCH_USERNAME')\n",
        "    password = os.getenv('MARKETWATCH_PASSWORD')\n",
        "    if not username or not password:\n",
        "        logging.error(\"Username or password not set in environment variables.\")\n",
        "        return\n",
        "\n",
        "    game_name = 'marketwatchapistrategieema'\n",
        "    marketwatch = MarketWatch(username, password)\n",
        "\n",
        "    next_trade_day = next_trading_day()\n",
        "    if datetime.today() < next_trade_day:\n",
        "        sleep_seconds = (next_trade_day - datetime.today()).total_seconds()\n",
        "        logging.info(f\"Today is a non-trading day. Sleeping until {next_trade_day}\")\n",
        "        time.sleep(sleep_seconds)\n",
        "\n",
        "    tech_stocks = ['AAPL', 'GOOGL']\n",
        "    health_stocks = ['JNJ']\n",
        "    utility_stocks = ['NEE']\n",
        "    all_stocks = tech_stocks + health_stocks + utility_stocks\n",
        "\n",
        "    trade_multiple_stocks(all_stocks, marketwatch, game_name)\n",
        "\n",
        "if __name__ == \"__main__\":\n",
        "    main()"
      ]
    }
  ],
  "metadata": {
    "kernelspec": {
      "display_name": "Python 3",
      "language": "python",
      "name": "python3"
    },
    "language_info": {
      "codemirror_mode": {
        "name": "ipython",
        "version": 3
      },
      "file_extension": ".py",
      "mimetype": "text/x-python",
      "name": "python",
      "nbconvert_exporter": "python",
      "pygments_lexer": "ipython3",
      "version": "3.10.10"
    }
  },
  "nbformat": 4,
  "nbformat_minor": 2
}
