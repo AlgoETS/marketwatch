{
  "cells": [
    {
      "cell_type": "code",
      "execution_count": null,
      "metadata": {},
      "outputs": [],
      "source": [
        "# Import required modules\n",
        "import time\n",
        "import pandas as pd\n",
        "from marketwatch import MarketWatch\n",
        "\n",
        "# Initialize MarketWatch API\n",
        "username = 'your_username_here'\n",
        "password = 'your_password_here'\n",
        "game_name = 'your_game_name_here'\n",
        "\n",
        "# Initialize MarketWatch\n",
        "marketwatch = MarketWatch(username, password)\n",
        "\n",
        "# Function to calculate EMA\n",
        "def calculate_ema(price_series, periods):\n",
        "    return price_series.ewm(span=periods, adjust=False).mean()\n",
        "\n",
        "# Function to calculate RSI\n",
        "def calculate_rsi(df, periods):\n",
        "    delta = df['Close'].diff()\n",
        "    gain = (delta.where(delta > 0, 0)).rolling(window=periods, min_periods=1).mean()\n",
        "    loss = (-delta.where(delta < 0, 0)).rolling(window=periods, min_periods=1).mean()\n",
        "    rs = gain / loss\n",
        "    rsi = 100 - (100 / (1 + rs))\n",
        "    return rsi\n",
        "\n",
        "# Function to trade based on EMA crossover and RSI\n",
        "def trade_on_strategies(df, game_name):\n",
        "    # EMA Crossover\n",
        "    short_term_ema = df['EMA_20'].iloc[-1]\n",
        "    long_term_ema = df['EMA_80'].iloc[-1]\n",
        "    \n",
        "    # RSI\n",
        "    rsi = df['RSI_14'].iloc[-1]\n",
        "    \n",
        "    if short_term_ema > long_term_ema and rsi < 30:\n",
        "        print('Conditions met for buying. Attempting to buy stock.')\n",
        "        marketwatch.buy(game_name, 'AAPL', 100)\n",
        "    elif short_term_ema < long_term_ema and rsi > 70:\n",
        "        print('Conditions met for selling. Attempting to sell stock.')\n",
        "        marketwatch.sell(game_name, 'AAPL', 100)"
      ]
    },
    {
      "cell_type": "code",
      "execution_count": null,
      "metadata": {},
      "outputs": [],
      "source": [
        "# Collect historical data by calling get_price() at intervals\n",
        "price_data = []\n",
        "for _ in range(160):\n",
        "    price = marketwatch.get_price('AAPL')\n",
        "    price_data.append(price)\n",
        "    if len(price_data) > 150:\n",
        "        price_data.pop(0)\n",
        "    \n",
        "    df = pd.DataFrame(price_data, columns=['Close'])\n",
        "    \n",
        "    for period in [20, 80]:\n",
        "        ema_column_name = f'EMA_{period}'\n",
        "        df[ema_column_name] = calculate_ema(df['Close'], period)\n",
        "    \n",
        "    df['RSI_14'] = calculate_rsi(df, 14)\n",
        "    \n",
        "    if len(df) >= 80:\n",
        "        trade_on_strategies(df, game_name)\n",
        "    \n",
        "    time.sleep(60)"
      ]
    }
  ],
  "metadata": {
    "kernelspec": {
      "display_name": "Python 3",
      "language": "python",
      "name": "python3"
    },
    "language_info": {
      "codemirror_mode": {
        "name": "ipython",
        "version": 3
      },
      "file_extension": ".py",
      "mimetype": "text/x-python",
      "name": "python",
      "nbconvert_exporter": "python",
      "pygments_lexer": "ipython3",
      "version": "3.10.10"
    }
  },
  "nbformat": 4,
  "nbformat_minor": 2
}
