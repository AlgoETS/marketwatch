{
  "cells": [
    {
      "cell_type": "code",
      "execution_count": null,
      "metadata": {},
      "outputs": [],
      "source": [
        "import time",
        "import pandas as pd",
        "from datetime import datetime",
        "from marketwatch import MarketWatch"
      ]
    },
    {
      "cell_type": "code",
      "execution_count": null,
      "metadata": {},
      "outputs": [],
      "source": [
        "def calculate_ema(price_series, periods):\n",
        "    return price_series.ewm(span=periods, adjust=False).mean()"
      ]
    },
    {
      "cell_type": "code",
      "execution_count": null,
      "metadata": {},
      "outputs": [],
      "source": [
        "def trade_on_crossover(df, game_name, stock_symbol):\n",
        "    short_term = df['EMA_20'].iloc[-1]\n",
        "    long_term = df['EMA_80'].iloc[-1]\n",
        "    prev_short_term = df['EMA_20'].iloc[-2]\n",
        "    prev_long_term = df['EMA_80'].iloc[-2]\n",
        "    if short_term > long_term and prev_short_term <= prev_long_term:\n",
        "        marketwatch.buy(game_name, stock_symbol, 100)\n",
        "    elif short_term < long_term and prev_short_term >= prev_long_term:\n",
        "        marketwatch.sell(game_name, stock_symbol, 100)"
      ]
    },
    {
      "cell_type": "code",
      "execution_count": null,
      "metadata": {},
      "outputs": [],
      "source": [
        "def trade_multiple_stocks(stock_symbols):\n",
        "    price_data = {symbol: [] for symbol in stock_symbols}\n",
        "    for _ in range(160):\n",
        "        for symbol in stock_symbols:\n",
        "            price = marketwatch.get_price(symbol)\n",
        "            price_data[symbol].append(price)\n",
        "            if len(price_data[symbol]) > 150:\n",
        "                price_data[symbol].pop(0)\n",
        "        \n",
        "        for symbol in stock_symbols:\n",
        "            df = pd.DataFrame(price_data[symbol], columns=['Close'])\n",
        "            for period in [20, 80]:\n",
        "                ema_column_name = f'EMA_{period}'\n",
        "                df[ema_column_name] = calculate_ema(df['Close'], period)\n",
        "            \n",
        "            if len(df) >= 80:\n",
        "                trade_on_crossover(df, game_name, symbol)\n",
        "        \n",
        "        time.sleep(60)"
      ]
    },
    {
      "cell_type": "code",
      "execution_count": null,
      "metadata": {},
      "outputs": [],
      "source": [
        "username = 'Your MarketWatch Username'\n",
        "password = 'Your MarketWatch Password'\n",
        "game_name = 'Your Game Name'\n",
        "marketwatch = MarketWatch(username, password)\n",
        "today = datetime.today().weekday()\n",
        "if today >= 5:\n",
        "    print('Today is a weekend. Skipping trading.')\n",
        "else:\n",
        "    tech_stocks = ['AAPL', 'GOOGL', 'MSFT']\n",
        "    health_stocks = ['JNJ', 'MRK', 'PFE']\n",
        "    utility_stocks = ['NEE', 'DUK', 'D']\n",
        "    all_stocks = tech_stocks + health_stocks + utility_stocks\n",
        "    trade_multiple_stocks(all_stocks)"
      ]
    }
  ],
  "metadata": {
    "kernelspec": {
      "display_name": "Python 3",
      "language": "python",
      "name": "python3"
    },
    "language_info": {
      "codemirror_mode": {
        "name": "ipython",
        "version": 3
      },
      "file_extension": ".py",
      "mimetype": "text/x-python",
      "name": "python",
      "nbconvert_exporter": "python",
      "pygments_lexer": "ipython3",
      "version": "3.10.10"
    }
  },
  "nbformat": 4,
  "nbformat_minor": 2
}
